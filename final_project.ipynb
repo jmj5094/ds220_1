{
 "cells": [
  {
   "cell_type": "raw",
   "id": "232541a3-bfd1-4758-8cf4-1cb80904bd03",
   "metadata": {
    "editable": true,
    "slideshow": {
     "slide_type": ""
    },
    "tags": []
   },
   "source": [
    "markdown"
   ]
  },
  {
   "cell_type": "code",
   "execution_count": null,
   "id": "7b49b588-c895-451d-ad48-f371cf1718f5",
   "metadata": {},
   "outputs": [],
   "source": [
    "import matplotlib.pyplot as plt\n",
    "import pandas as pd\n",
    "df = pd.read_csv('conditions_contributing_to.csv')\n",
    "df"
   ]
  },
  {
   "cell_type": "markdown",
   "id": "c0e05ad5-3dd3-4190-b3cd-de92f6e7b107",
   "metadata": {},
   "source": [
    "markdown"
   ]
  },
  {
   "cell_type": "code",
   "execution_count": null,
   "id": "379cd8e6-8229-4588-8f12-9102adf141db",
   "metadata": {},
   "outputs": [],
   "source": [
    "df.isnull().sum()"
   ]
  },
  {
   "cell_type": "markdown",
   "id": "9ecc9739-4130-4d05-907d-158d56d3f11c",
   "metadata": {},
   "source": [
    "markdown"
   ]
  },
  {
   "cell_type": "code",
   "execution_count": null,
   "id": "7a7a1098-66ee-405b-b663-028ff946d3c7",
   "metadata": {},
   "outputs": [],
   "source": [
    "df.dtypes"
   ]
  },
  {
   "cell_type": "markdown",
   "id": "36aedf3d-cfed-493c-9e6f-75b8bbff9e55",
   "metadata": {},
   "source": [
    "markdown"
   ]
  },
  {
   "cell_type": "code",
   "execution_count": null,
   "id": "2542077b-a2d2-421b-b424-787ba2fe798f",
   "metadata": {},
   "outputs": [],
   "source": [
    "for col in df:\n",
    "    print(col, ': ', df[col].unique())"
   ]
  },
  {
   "cell_type": "markdown",
   "id": "30a07ffe-25a0-4dcb-aff8-f05f5e9a4faf",
   "metadata": {},
   "source": [
    "markdown"
   ]
  },
  {
   "cell_type": "code",
   "execution_count": null,
   "id": "eac470f1-bcb2-448e-b054-73cb834fca00",
   "metadata": {},
   "outputs": [],
   "source": [
    "df.drop(columns=['Data As Of', 'Start Date', 'End Date', 'Group', 'Condition Group', 'ICD10_codes', 'Number of Mentions'], inplace=True)\n",
    "df.rename(columns={'COVID-19 Deaths':'Deaths'}, inplace=True)\n",
    "df"
   ]
  },
  {
   "cell_type": "markdown",
   "id": "364f1048-24c4-4227-ba06-aa9fd2bcddb6",
   "metadata": {},
   "source": [
    "markdown"
   ]
  },
  {
   "cell_type": "code",
   "execution_count": null,
   "id": "50311853-8b03-4cba-bc1e-0da44561ce8a",
   "metadata": {},
   "outputs": [],
   "source": [
    "df.isnull().sum()"
   ]
  },
  {
   "cell_type": "markdown",
   "id": "e6588bb8-0390-4b7d-aff4-ef6252c6dae8",
   "metadata": {},
   "source": [
    "markdown"
   ]
  },
  {
   "cell_type": "code",
   "execution_count": null,
   "id": "c480d070-280d-49a5-b4a3-5c097386b57c",
   "metadata": {},
   "outputs": [],
   "source": [
    "df.loc[(df['Deaths'].isnull()) & (df['Flag'].isnull())]"
   ]
  },
  {
   "cell_type": "markdown",
   "id": "612826ec-dbb5-4f44-8597-600b518d79a9",
   "metadata": {},
   "source": [
    "markdown"
   ]
  },
  {
   "cell_type": "code",
   "execution_count": null,
   "id": "5a58c033-75e3-4d73-90e2-a31bb63ccf0c",
   "metadata": {},
   "outputs": [],
   "source": [
    "df.drop(columns=['Flag'], inplace=True)\n",
    "df.fillna({'Deaths':0}, inplace=True)\n",
    "df"
   ]
  },
  {
   "cell_type": "markdown",
   "id": "21cabac4-fed6-496f-91f9-e47b49aab451",
   "metadata": {},
   "source": [
    "markdown"
   ]
  },
  {
   "cell_type": "code",
   "execution_count": null,
   "id": "9e656ad8-ac50-46e4-995c-f708e393cb1e",
   "metadata": {},
   "outputs": [],
   "source": [
    "# the count for the united states is 1146242\n",
    "df.loc[(df['Year'].isnull()) & (df['State']=='United States') & (df['Condition']=='COVID-19') & (df['Age Group']=='All Ages')]['Deaths'].sum()\n",
    "\n",
    "# the count for the fifty states, puerto rico, district of columbia, and new york city is 1152658\n",
    "df.loc[(df['Year'].isnull()) & (df['State']!='United States') & (df['Condition']=='COVID-19') & (df['Age Group']=='All Ages')]['Deaths'].sum()\n",
    "\n",
    "# the count for the fifty states, district of columbia, and new york city is 1146242\n",
    "df.loc[(df['Year'].isnull()) & (df['State']!='United States') & (df['State']!='Puerto Rico') & (df['Condition']=='COVID-19') & (df['Age Group']=='All Ages')]['Deaths'].sum()"
   ]
  },
  {
   "cell_type": "markdown",
   "id": "94fc0e70-062c-4a12-8b92-b1ead5ced465",
   "metadata": {},
   "source": [
    "markdown"
   ]
  },
  {
   "cell_type": "code",
   "execution_count": null,
   "id": "9194f5b1-7f3f-4654-ae61-1e1f722b9be4",
   "metadata": {},
   "outputs": [],
   "source": [
    "columns = df.columns[:-1].tolist() #[:-1] excludes the 'Deaths' column\n",
    "df = df.loc[(df['State']!='Puerto Rico') & (df['State']!='District of Columbia')]\n",
    "df = df.replace('New York City', 'New York')\n",
    "df = df.groupby(columns, dropna=False).sum()\n",
    "df.reset_index(inplace=True)\n",
    "df.sort_values(by=columns, na_position='first', inplace=True)\n",
    "df"
   ]
  },
  {
   "cell_type": "markdown",
   "id": "314cda13-c94e-4214-9836-b4f0a534e4e9",
   "metadata": {},
   "source": [
    "markdown"
   ]
  },
  {
   "cell_type": "code",
   "execution_count": null,
   "id": "306a95e4-a745-40cd-be69-5c5db040743a",
   "metadata": {},
   "outputs": [],
   "source": [
    "df.dtypes"
   ]
  },
  {
   "cell_type": "markdown",
   "id": "caf8d813-a698-4e77-8ee9-c83e6f0b6875",
   "metadata": {},
   "source": [
    "markdown"
   ]
  },
  {
   "cell_type": "code",
   "execution_count": null,
   "id": "e5c0642d-81e5-4424-ae13-cbfc73d95ca2",
   "metadata": {},
   "outputs": [],
   "source": [
    "month_list = {1:'Jan', 2:'Feb', 3:'Mar', 4:'Apr', 5:'May', 6:'Jun', 7:'Jul', 8:'Aug', 9:'Sep', 10:'Oct', 11:'Nov', 12:'Dec'}\n",
    "year_list = [2020, 2021, 2022, 2023]\n",
    "\n",
    "deaths_bymonth = {}\n",
    "\n",
    "for year in year_list:\n",
    "    deaths = []\n",
    "    for month in month_list:\n",
    "        deaths.append(df.loc[(df['Year']==year) & (df['Month']==month) & (df['State']=='United States') & (df['Condition']=='COVID-19') & (df['Age Group']=='All Ages')]['Deaths'].sum())\n",
    "    deaths_bymonth[year] = deaths\n",
    "\n",
    "figs, axes = plt.subplots(2,2)\n",
    "figs.suptitle('COVID-19 Deaths by Month, By Year')\n",
    "\n",
    "axes[0,0].set_title(2020)\n",
    "axes[0,0].bar(month_list.values(), deaths_bymonth[2020], color='blue')\n",
    "\n",
    "axes[0,1].set_title(2021)\n",
    "axes[0,1].bar(month_list.values(), deaths_bymonth[2021], color='darkorange')\n",
    "\n",
    "axes[1,0].set_title(2022)\n",
    "axes[1,0].bar(month_list.values(), deaths_bymonth[2022], color='green')\n",
    "\n",
    "axes[1,1].set_title(2023)\n",
    "axes[1,1].bar(month_list.values(), deaths_bymonth[2023], color='red')\n",
    "\n",
    "for ax in axes.flat:\n",
    "    ax.set(xlabel='Month', ylabel='Number of Deaths')\n",
    "    ax.tick_params('x', labelrotation=90)\n",
    "    plt.setp(ax, ylim=(0,120000))\n",
    "    ax.label_outer()"
   ]
  },
  {
   "cell_type": "markdown",
   "id": "2e2a5688-a9cd-4747-8bad-2ba66f8b195b",
   "metadata": {},
   "source": [
    "markdown"
   ]
  },
  {
   "cell_type": "code",
   "execution_count": null,
   "id": "622ebd66-29c2-4e81-9a73-47d2333f56bf",
   "metadata": {},
   "outputs": [],
   "source": [
    "def prevmonth_func(year, month):\n",
    "    if (month==1):\n",
    "        return year-1, 12\n",
    "    else:\n",
    "        return year, month-1\n",
    "\n",
    "percent_bymonth = {}\n",
    "\n",
    "for year in year_list:\n",
    "    deaths = []\n",
    "    for month in month_list:\n",
    "        if (year==2023) and (month>8):\n",
    "            percent = 0\n",
    "        else:\n",
    "            prevyear, prevmonth = prevmonth_func(year,month)\n",
    "            if prevyear not in year_list:\n",
    "                percent = 0\n",
    "            elif (deaths_bymonth[prevyear][prevmonth-1]==0):\n",
    "                percent = 0\n",
    "            else:\n",
    "                percent = (deaths_bymonth[year][month-1] - deaths_bymonth[prevyear][prevmonth-1])/(deaths_bymonth[prevyear][prevmonth-1]) * 100\n",
    "        deaths.append(percent)\n",
    "    percent_bymonth[year] = deaths\n",
    "\n",
    "figs, axes = plt.subplots(2,2)\n",
    "figs.suptitle('Percentage Change of COVID-19 Deaths from Previous Month')\n",
    "\n",
    "axes[0,0].set_title(2020)\n",
    "axes[0,0].bar(month_list.values(), percent_bymonth[2020], color='blue')\n",
    "\n",
    "axes[0,1].set_title(2021)\n",
    "axes[0,1].bar(month_list.values(), percent_bymonth[2021], color='darkorange')\n",
    "\n",
    "axes[1,0].set_title(2022)\n",
    "axes[1,0].bar(month_list.values(), percent_bymonth[2022], color='green')\n",
    "\n",
    "axes[1,1].set_title(2023)\n",
    "axes[1,1].bar(month_list.values(), percent_bymonth[2023], color='red')\n",
    "\n",
    "for ax in axes.flat:\n",
    "    ax.set(xlabel='Month', ylabel='Percentage Change')\n",
    "    ax.tick_params('x', labelrotation=90)\n",
    "    plt.setp(ax, ylim=(-100,100))\n",
    "    ax.label_outer()"
   ]
  },
  {
   "cell_type": "markdown",
   "id": "5cef6229-74b5-4a81-94f7-cbdc03348771",
   "metadata": {},
   "source": [
    "markdown"
   ]
  },
  {
   "cell_type": "code",
   "execution_count": null,
   "id": "bf12531e-9e3f-49c2-8fce-b6b05a2c1f50",
   "metadata": {},
   "outputs": [],
   "source": [
    "df2 = df.copy().loc[(df['Month'].isnull()) & (df['State']!='United States') & (df['Condition']=='COVID-19') & (df['Age Group']=='All Ages')][['Year', 'State', 'Deaths']]\n",
    "df2.sort_values(by=['Year', 'Deaths'], ascending=False, inplace=True)\n",
    "\n",
    "for year in year_list:\n",
    "    df3 = df2.loc[(df2['Year']==year)]\n",
    "\n",
    "    print(int(year))\n",
    "\n",
    "    print('Most deaths:')\n",
    "    print('1. ', df3.iloc[0]['State'], ' (', int(df3.iloc[0]['Deaths']), ')', sep='')\n",
    "    print('2. ', df3.iloc[1]['State'], ' (', int(df3.iloc[1]['Deaths']), ')', sep='')\n",
    "    print('3. ', df3.iloc[2]['State'], ' (', int(df3.iloc[2]['Deaths']), ')', sep='')\n",
    "\n",
    "    print('Least deaths:')\n",
    "    print('1. ', df3.iloc[-1]['State'], ' (', int(df3.iloc[-1]['Deaths']), ')', sep='')\n",
    "    print('2. ', df3.iloc[-2]['State'], ' (', int(df3.iloc[-2]['Deaths']), ')', sep='')\n",
    "    print('3. ', df3.iloc[-3]['State'], ' (', int(df3.iloc[-3]['Deaths']), ') \\n', sep='')"
   ]
  },
  {
   "cell_type": "markdown",
   "id": "80bdb898-2b53-4262-8711-3fca243b2d76",
   "metadata": {},
   "source": [
    "markdown"
   ]
  },
  {
   "cell_type": "code",
   "execution_count": null,
   "id": "bcf0051b-9861-48cc-9516-baae2692d6e5",
   "metadata": {},
   "outputs": [],
   "source": [
    "age_list = df['Age Group'].unique().tolist()\n",
    "age_list.remove('All Ages')\n",
    "\n",
    "deaths_byage = {}\n",
    "\n",
    "for year in year_list:\n",
    "    deaths = []\n",
    "    for age in age_list:\n",
    "        deaths.append(df.loc[(df['Year']==year) & (df['Month'].isnull()) & (df['State']=='United States') & (df['Condition']=='COVID-19') & (df['Age Group']==age)]['Deaths'].sum())\n",
    "    deaths_byage[year] = deaths\n",
    "\n",
    "figs, axes = plt.subplots(2,2)\n",
    "figs.suptitle('COVID-19 Deaths by Age Group, By Year')\n",
    "\n",
    "axes[0,0].set_title(2020)\n",
    "axes[0,0].bar(age_list, deaths_byage[2020], color='blue')\n",
    "\n",
    "axes[0,1].set_title(2021)\n",
    "axes[0,1].bar(age_list, deaths_byage[2021], color='darkorange')\n",
    "\n",
    "axes[1,0].set_title(2022)\n",
    "axes[1,0].bar(age_list, deaths_byage[2022], color='green')\n",
    "\n",
    "axes[1,1].set_title(2023)\n",
    "axes[1,1].bar(age_list, deaths_byage[2023], color='red')\n",
    "\n",
    "for ax in axes.flat:\n",
    "    ax.set(xlabel='Age Group', ylabel='Number of Deaths')\n",
    "    ax.tick_params('x', labelrotation=90)\n",
    "    plt.setp(ax, ylim=(0,125000))\n",
    "    ax.label_outer()"
   ]
  },
  {
   "cell_type": "markdown",
   "id": "8b1468a3-9b53-46d3-80a9-bd86f163134f",
   "metadata": {},
   "source": [
    "markdown"
   ]
  },
  {
   "cell_type": "code",
   "execution_count": null,
   "id": "0fabbbac-a2e3-475a-b732-561d5f15f31c",
   "metadata": {},
   "outputs": [],
   "source": [
    "color_list = ['#6E5E4D', '#887561', '#A08C77', '#BFAB95', '#E7DA61', '#9AB8C8', '#7392BD', '#535E84', 'black']\n",
    "\n",
    "figs, axes = plt.subplots(2,2)\n",
    "figs.suptitle('Percentage of COVID-19 Deaths by Age Group, By Year')\n",
    "\n",
    "axes[0,0].set_title(2020)\n",
    "axes[0,0].pie(deaths_byage[2020], labels=age_list, autopct='%1.1f%%', colors=color_list)\n",
    "\n",
    "axes[0,1].set_title(2021)\n",
    "axes[0,1].pie(deaths_byage[2021], labels=age_list, autopct='%1.1f%%', colors=color_list)\n",
    "\n",
    "axes[1,0].set_title(2022)\n",
    "axes[1,0].pie(deaths_byage[2022], labels=age_list, autopct='%1.1f%%', colors=color_list)\n",
    "\n",
    "axes[1,1].set_title(2023)\n",
    "axes[1,1].pie(deaths_byage[2023], labels=age_list, autopct='%1.1f%%', colors=color_list)\n",
    "\n",
    "plt.show()"
   ]
  },
  {
   "cell_type": "markdown",
   "id": "b59f32b7-4ab0-4be6-bd42-7b4b72f2e0f9",
   "metadata": {},
   "source": [
    "markdown"
   ]
  },
  {
   "cell_type": "code",
   "execution_count": null,
   "id": "ef6b5e46-5487-47f0-84f9-38368efd6921",
   "metadata": {},
   "outputs": [],
   "source": [
    "condition_list = df['Condition'].unique().tolist()\n",
    "\n",
    "total_bycondition = {}\n",
    "\n",
    "df2 = df.loc[(df['Year'].isnull()) & (df['State']=='United States') & (df['Age Group']!='All Ages')][['Condition', 'Age Group', 'Deaths']]\n",
    "\n",
    "for condition in condition_list:\n",
    "    deaths = df2.loc[(df2['Condition']==condition)]['Deaths'].sum()\n",
    "    total_bycondition[condition] = deaths\n",
    "\n",
    "new_data = {'Condition':condition_list, 'Total Deaths':total_bycondition.values()}\n",
    "\n",
    "for age in age_list:\n",
    "    proportions = []\n",
    "    for condition in condition_list:\n",
    "        deaths = df2.loc[(df2['Condition']==condition) & (df2['Age Group']==age)]['Deaths'].sum()\n",
    "        proportions.append(deaths / total_bycondition[condition])\n",
    "\n",
    "    if (age=='Not stated'):\n",
    "        key = 'Proportion of Unstated Age'\n",
    "    else:\n",
    "        key = 'Proportion Aged ' + age\n",
    "\n",
    "    new_data[key] = proportions\n",
    "\n",
    "new_df = pd.DataFrame(new_data)\n",
    "new_df"
   ]
  },
  {
   "cell_type": "markdown",
   "id": "d21876b8-1357-4645-9673-919645f489db",
   "metadata": {},
   "source": [
    "markdown"
   ]
  },
  {
   "cell_type": "code",
   "execution_count": null,
   "id": "7cebc5f3-b228-40bb-bee1-34e72f19582f",
   "metadata": {},
   "outputs": [],
   "source": [
    "new_df.sort_values('Proportion Aged 0-24').tail(1)"
   ]
  },
  {
   "cell_type": "markdown",
   "id": "36890a71-0ddc-4a3a-830f-514647031dca",
   "metadata": {},
   "source": [
    "markdown"
   ]
  },
  {
   "cell_type": "code",
   "execution_count": 23,
   "id": "182d4a21-6fa7-4b95-9226-5421bc48a05e",
   "metadata": {},
   "outputs": [
    {
     "data": {
      "text/plain": [
       "[{'state': 'Alaska',\n",
       "  'start year': 2023.0,\n",
       "  'start month': 3.0,\n",
       "  'end year': 2023.0,\n",
       "  'end month': 8.0,\n",
       "  'length': 6}]"
      ]
     },
     "execution_count": 23,
     "metadata": {},
     "output_type": "execute_result"
    }
   ],
   "source": [
    "df2 = df.copy().loc[(df['Year'].notnull()) & ((df['Year']!=2023) | ((df['Year']==2023) & (df['Month']<9))) & (df['State']!='United States') & (df['Condition']=='COVID-19') & (df['Age Group']=='All Ages') & (df['Deaths']<10)][['Year', 'Month', 'State', 'Deaths']]\n",
    "df2.sort_values(by=['Year', 'Month'], ascending=False, inplace=True)\n",
    "df2\n",
    "\n",
    "def length_func(currentyear, currentmonth, length):\n",
    "    prevyear, prevmonth = prevmonth_func(currentyear, currentmonth)\n",
    "    prevrecord = df2.loc[(df2['Year']==prevyear) & (df2['Month']==prevmonth) & (df2['State']==state)]\n",
    "\n",
    "    if prevrecord.empty:\n",
    "        return currentyear, currentmonth, length\n",
    "\n",
    "    return length_func(prevyear, prevmonth, length+1)\n",
    "\n",
    "streak_list = []\n",
    "\n",
    "# for i in range(len(df2)):\n",
    "for i in range(len(df2.loc[(df['Year']==2023)])):\n",
    "    endyear, endmonth, state = df2.iloc[i][['Year', 'Month', 'State']]\n",
    "    startyear, startmonth, length = length_func(endyear, endmonth, 1)\n",
    "    \n",
    "    new_streak = {'state':state, 'start year':startyear, 'start month': startmonth, 'end year':endyear, 'end month':endmonth, 'length':length}\n",
    "\n",
    "    if not streak_list:\n",
    "        streak_list.append(new_streak)\n",
    "\n",
    "    elif length > streak_list[0]['length']:\n",
    "        streak_list = new_streak\n",
    "\n",
    "    elif length == streak_list[0]['length']:\n",
    "        streak_list.append(new_streak)\n",
    "\n",
    "streak_list"
   ]
  },
  {
   "cell_type": "code",
   "execution_count": null,
   "id": "f9ac4911-3a0c-49bf-85cb-76d83a7a79ca",
   "metadata": {},
   "outputs": [],
   "source": []
  }
 ],
 "metadata": {
  "kernelspec": {
   "display_name": "Python 3 (ipykernel)",
   "language": "python",
   "name": "python3"
  },
  "language_info": {
   "codemirror_mode": {
    "name": "ipython",
    "version": 3
   },
   "file_extension": ".py",
   "mimetype": "text/x-python",
   "name": "python",
   "nbconvert_exporter": "python",
   "pygments_lexer": "ipython3",
   "version": "3.10.8"
  }
 },
 "nbformat": 4,
 "nbformat_minor": 5
}
